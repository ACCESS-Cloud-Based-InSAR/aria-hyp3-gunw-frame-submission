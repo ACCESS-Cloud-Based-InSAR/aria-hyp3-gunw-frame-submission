{
 "cells": [
  {
   "cell_type": "code",
   "execution_count": 1,
   "id": "a5f31db2",
   "metadata": {},
   "outputs": [],
   "source": [
    "import datetime\n",
    "import hyp3_sdk\n",
    "from tqdm import tqdm\n",
    "from copy import deepcopy"
   ]
  },
  {
   "cell_type": "markdown",
   "id": "2a6f45fd",
   "metadata": {},
   "source": [
    "## Setup"
   ]
  },
  {
   "cell_type": "code",
   "execution_count": 2,
   "id": "18e61723",
   "metadata": {},
   "outputs": [],
   "source": [
    "# uses .netrc; add `prompt=True` to prompt for credentials;\n",
    "hyp3_isce = hyp3_sdk.HyP3('https://hyp3-a19-jpl.asf.alaska.edu', prompt=True)\n",
    "# hyp3_isce = hyp3_sdk.HyP3('https://hyp3-tibet-jpl.asf.alaska.edu', prompt=True)"
   ]
  },
  {
   "cell_type": "code",
   "execution_count": 3,
   "id": "eafb8dbf",
   "metadata": {},
   "outputs": [
    {
     "name": "stdout",
     "output_type": "stream",
     "text": [
      "65200 HyP3 Jobs: 0 succeeded, 65200 failed, 0 running, 0 pending.\n"
     ]
    }
   ],
   "source": [
    "failed_jobs = hyp3_isce.find_jobs(start=datetime.datetime(2024, 3, 19), \n",
    "                                  end=datetime.datetime(2024, 1, 21),\n",
    "                                  user_id='access_cloud_based_insar',\n",
    "                                  status_code='FAILED')\n",
    "dicts_failed = [j.to_dict() for j in failed_jobs]\n",
    "\n",
    "print(failed_jobs)"
   ]
  },
  {
   "cell_type": "code",
   "execution_count": 7,
   "id": "1ddbc1be",
   "metadata": {},
   "outputs": [
    {
     "name": "stdout",
     "output_type": "stream",
     "text": [
      "##########\n",
      "19075 HyP3 Jobs: 0 succeeded, 0 failed, 0 running, 19075 pending.\n"
     ]
    }
   ],
   "source": [
    "jobs = hyp3_isce.find_jobs(user_id='access_cloud_based_insar',\n",
    "                           start=datetime.datetime(2024, 4, 29), \n",
    "                           end=datetime.datetime(2024, 5, 21))\n",
    "print('#' * 10)\n",
    "print(jobs)"
   ]
  },
  {
   "cell_type": "markdown",
   "id": "412e78a7",
   "metadata": {},
   "source": [
    "### topsapp"
   ]
  },
  {
   "cell_type": "code",
   "execution_count": 8,
   "id": "f2d8aa83",
   "metadata": {},
   "outputs": [
    {
     "data": {
      "text/plain": [
       "19074"
      ]
     },
     "execution_count": 8,
     "metadata": {},
     "output_type": "execute_result"
    }
   ],
   "source": [
    "# Failed at isce2\n",
    "topsapp_failed_jobs = [j for j in dicts_failed if len(j['processing_times']) == 1]\n",
    "len(topsapp_failed_jobs)"
   ]
  },
  {
   "cell_type": "code",
   "execution_count": 9,
   "id": "e1c65215",
   "metadata": {},
   "outputs": [],
   "source": [
    "resubmit_dict = {'name': None,\n",
    "                 'job_parameters': None,\n",
    "                 'job_type': 'INSAR_ISCE'\n",
    "                 }\n",
    "\n",
    "prepared_jobs = []\n",
    "for job in topsapp_failed_jobs:\n",
    "    prepared_job = deepcopy(resubmit_dict)\n",
    "    prepared_job['name'] = job['name']\n",
    "    prepared_job['job_parameters'] = job['job_parameters']\n",
    "    prepared_job['job_type'] = job['job_type']\n",
    "    prepared_jobs.append(prepared_job)"
   ]
  },
  {
   "cell_type": "code",
   "execution_count": 59,
   "id": "3ee05ec7",
   "metadata": {},
   "outputs": [
    {
     "data": {
      "text/plain": [
       "({'name': 'conus_west_coast-track115',\n",
       "  'job_parameters': {'compute_solid_earth_tide': True,\n",
       "   'esd_coherence_threshold': -1,\n",
       "   'estimate_ionosphere_delay': True,\n",
       "   'frame_id': 17887,\n",
       "   'granules': ['S1A_IW_SLC__1SDV_20170211T141545_20170211T141615_015237_018F51_F3D3',\n",
       "    'S1A_IW_SLC__1SSV_20170211T141516_20170211T141539_015237_018F50_B2FB'],\n",
       "   'secondary_granules': ['S1A_IW_SLC__1SSV_20151219T141518_20151219T141545_009112_00D18D_9E27',\n",
       "    'S1A_IW_SLC__1SSV_20151219T141542_20151219T141609_009112_00D18D_7814'],\n",
       "   'weather_model': 'HRRR'},\n",
       "  'job_type': 'INSAR_ISCE'},\n",
       " 200,\n",
       " 96)"
      ]
     },
     "execution_count": 59,
     "metadata": {},
     "output_type": "execute_result"
    }
   ],
   "source": [
    "batches_resubmit = [batch for batch in hyp3_sdk.util.chunk(prepared_jobs, 200)]\n",
    "batches_resubmit[0][0], len(batches_resubmit[0]), len(batches_resubmit)"
   ]
  },
  {
   "cell_type": "code",
   "execution_count": 77,
   "id": "85ee2135",
   "metadata": {},
   "outputs": [
    {
     "name": "stdout",
     "output_type": "stream",
     "text": [
      "Submitting: 19074 jobs\n"
     ]
    }
   ],
   "source": [
    "### Submitting all the batches\n",
    "print(f'Submitting: {len(prepared_jobs)} jobs')\n",
    "#hyp3_jobs_out = [hyp3_isce.submit_prepared_jobs(batch) for batch in tqdm(batches_resubmit)]"
   ]
  },
  {
   "cell_type": "code",
   "execution_count": 34,
   "id": "3b3d5059",
   "metadata": {},
   "outputs": [
    {
     "name": "stdout",
     "output_type": "stream",
     "text": [
      "Date: 2024-05-01 00:00:00\n",
      "19074 HyP3 Jobs: 0 succeeded, 0 failed, 0 running, 19074 pending.\n"
     ]
    }
   ],
   "source": [
    "#reprocessing_date = datetime.datetime.today()\n",
    "reprocessing_date = datetime.datetime(2024,5,1)\n",
    "print(f'Date: {reprocessing_date}')\n",
    "start_date = reprocessing_date - datetime.timedelta(days=1)\n",
    "end_date = reprocessing_date + datetime.timedelta(days=1) \n",
    "\n",
    "print(hyp3_isce.find_jobs(user_id='access_cloud_based_insar',\n",
    "                          job_type='INSAR_ISCE',\n",
    "                          start=start_date, end=end_date))"
   ]
  },
  {
   "cell_type": "code",
   "execution_count": 12,
   "id": "de1175ad",
   "metadata": {},
   "outputs": [],
   "source": [
    "tjob = hyp3_isce.find_jobs(user_id='access_cloud_based_insar',\n",
    "                          job_type='INSAR_ISCE',\n",
    "                          start=start_date, end=end_date)"
   ]
  },
  {
   "cell_type": "markdown",
   "id": "7ce42428",
   "metadata": {},
   "source": [
    "### raider"
   ]
  },
  {
   "cell_type": "code",
   "execution_count": 87,
   "id": "419f7c70",
   "metadata": {},
   "outputs": [
    {
     "data": {
      "text/plain": [
       "45775"
      ]
     },
     "execution_count": 87,
     "metadata": {},
     "output_type": "execute_result"
    }
   ],
   "source": [
    "# Failed at raider\n",
    "raider_failed_jobs = [j for j in dicts_failed if len(j['processing_times']) == 2]\n",
    "len(raider_failed_jobs)"
   ]
  },
  {
   "cell_type": "code",
   "execution_count": 91,
   "id": "63e262f8",
   "metadata": {},
   "outputs": [
    {
     "data": {
      "text/plain": [
       "{'job_id': '21862aa9-4e9c-436f-9a43-620b12f9e600',\n",
       " 'job_type': 'INSAR_ISCE',\n",
       " 'request_time': '2024-03-20T01:00:43+00:00',\n",
       " 'status_code': 'FAILED',\n",
       " 'user_id': 'access_cloud_based_insar',\n",
       " 'name': 'conus_west_coast-track115',\n",
       " 'job_parameters': {'compute_solid_earth_tide': True,\n",
       "  'esd_coherence_threshold': -1,\n",
       "  'estimate_ionosphere_delay': True,\n",
       "  'frame_id': 17886,\n",
       "  'granules': ['S1A_IW_SLC__1SDV_20230111T141536_20230111T141604_046737_059A5B_CFF5',\n",
       "   'S1A_IW_SLC__1SDV_20230111T141602_20230111T141629_046737_059A5B_8B05'],\n",
       "  'secondary_granules': ['S1B_IW_SLC__1SDV_20211217T141443_20211217T141510_030066_039705_D4FC',\n",
       "   'S1B_IW_SLC__1SDV_20211217T141508_20211217T141535_030066_039705_A371'],\n",
       "  'weather_model': 'HRRR'},\n",
       " 'logs': ['https://hyp3-a19-jpl-contentbucket-1wfnatpznlg8b.s3.us-west-2.amazonaws.com/21862aa9-4e9c-436f-9a43-620b12f9e600/21862aa9-4e9c-436f-9a43-620b12f9e600.log'],\n",
       " 'expiration_time': '2024-10-29T00:00:00+00:00',\n",
       " 'processing_times': [9109.396, 275.412],\n",
       " 'credit_cost': 1}"
      ]
     },
     "execution_count": 91,
     "metadata": {},
     "output_type": "execute_result"
    }
   ],
   "source": [
    "raider_failed_jobs[0]"
   ]
  },
  {
   "cell_type": "code",
   "execution_count": 96,
   "id": "7c20b907",
   "metadata": {},
   "outputs": [],
   "source": [
    "job_definition = {\n",
    "    'name': 're-run RAiDER step',  # optional: provide a name\n",
    "    \"job_type\": \"ARIA_RAIDER\",\n",
    "    \"job_parameters\": {\n",
    "        # \"job_id\": \"27836b79-e5b2-4d8f-932f-659724ea02c3\",\n",
    "        # \"weather_model\": \"ERA5\"\n",
    "    },\n",
    "}\n",
    "\n",
    "prepared_jobs = []\n",
    "for job in raider_failed_jobs:\n",
    "    prepared_job = deepcopy(job_definition)\n",
    "    prepared_job['name'] = job['name'] + '_rerun_raider'\n",
    "    prepared_job['job_parameters']['job_id'] = job['job_id']\n",
    "    prepared_job['job_parameters']['weather_model'] = job['job_parameters']['weather_model'] \n",
    "    prepared_jobs.append(prepared_job)"
   ]
  },
  {
   "cell_type": "code",
   "execution_count": 107,
   "id": "25ed02a3",
   "metadata": {},
   "outputs": [
    {
     "data": {
      "text/plain": [
       "array(['conus_west_coast-track100_rerun_raider',\n",
       "       'conus_west_coast-track108_rerun_raider',\n",
       "       'conus_west_coast-track115_rerun_raider',\n",
       "       'conus_west_coast-track137_rerun_raider',\n",
       "       'conus_west_coast-track13_rerun_raider',\n",
       "       'conus_west_coast-track144_1_rerun_raider',\n",
       "       'conus_west_coast-track144_rerun_raider',\n",
       "       'conus_west_coast-track166_1_rerun_raider',\n",
       "       'conus_west_coast-track166_rerun_raider',\n",
       "       'conus_west_coast-track173_rerun_raider',\n",
       "       'conus_west_coast-track35_rerun_raider',\n",
       "       'conus_west_coast-track42_rerun_raider',\n",
       "       'conus_west_coast-track64_1_rerun_raider',\n",
       "       'conus_west_coast-track64_rerun_raider',\n",
       "       'conus_west_coast-track71_rerun_raider',\n",
       "       'conus_west_coast-track86_rerun_raider',\n",
       "       'conus_west_coast-track93_rerun_raider'], dtype='<U40')"
      ]
     },
     "execution_count": 107,
     "metadata": {},
     "output_type": "execute_result"
    }
   ],
   "source": [
    "import numpy as np\n",
    "np.unique([j['name'] for j in prepared_jobs])"
   ]
  },
  {
   "cell_type": "code",
   "execution_count": 98,
   "id": "063e2e79",
   "metadata": {},
   "outputs": [
    {
     "data": {
      "text/plain": [
       "({'name': 'conus_west_coast-track115_rerun_raider',\n",
       "  'job_type': 'ARIA_RAIDER',\n",
       "  'job_parameters': {'job_id': '21862aa9-4e9c-436f-9a43-620b12f9e600',\n",
       "   'weather_model': 'HRRR'}},\n",
       " 200,\n",
       " 229)"
      ]
     },
     "execution_count": 98,
     "metadata": {},
     "output_type": "execute_result"
    }
   ],
   "source": [
    "raider_batches_resubmit = [batch for batch in hyp3_sdk.util.chunk(prepared_jobs, 200)]\n",
    "raider_batches_resubmit[0][0], len(raider_batches_resubmit[0]), len(raider_batches_resubmit)"
   ]
  },
  {
   "cell_type": "code",
   "execution_count": 99,
   "id": "3037c983",
   "metadata": {},
   "outputs": [
    {
     "data": {
      "text/plain": [
       "Batch([Job.from_dict({'job_id': '5309fa0b-393f-4de6-99d4-004569ad1a08', 'job_type': 'ARIA_RAIDER', 'request_time': '2024-05-01T22:24:57+00:00', 'status_code': 'PENDING', 'user_id': 'access_cloud_based_insar', 'name': 'conus_west_coast-track115_rerun_raider', 'job_parameters': {'job_id': '21862aa9-4e9c-436f-9a43-620b12f9e600', 'weather_model': 'HRRR'}, 'credit_cost': 1})])"
      ]
     },
     "execution_count": 99,
     "metadata": {},
     "output_type": "execute_result"
    }
   ],
   "source": [
    "hyp3_isce.submit_prepared_jobs(prepared_jobs[0])"
   ]
  },
  {
   "cell_type": "code",
   "execution_count": 138,
   "id": "090d8b6c",
   "metadata": {},
   "outputs": [
    {
     "name": "stdout",
     "output_type": "stream",
     "text": [
      "1 HyP3 Jobs: 0 succeeded, 0 failed, 0 running, 1 pending.\n"
     ]
    }
   ],
   "source": [
    "job = hyp3_isce.find_jobs(job_type='ARIA_RAIDER')\n",
    "print(job)"
   ]
  },
  {
   "cell_type": "code",
   "execution_count": 126,
   "id": "7fe7e6ba",
   "metadata": {},
   "outputs": [],
   "source": [
    "job.jobs[0].logs"
   ]
  }
 ],
 "metadata": {
  "kernelspec": {
   "display_name": "aria_hyp3_env",
   "language": "python",
   "name": "python3"
  },
  "language_info": {
   "codemirror_mode": {
    "name": "ipython",
    "version": 3
   },
   "file_extension": ".py",
   "mimetype": "text/x-python",
   "name": "python",
   "nbconvert_exporter": "python",
   "pygments_lexer": "ipython3",
   "version": "3.12.3"
  }
 },
 "nbformat": 4,
 "nbformat_minor": 5
}

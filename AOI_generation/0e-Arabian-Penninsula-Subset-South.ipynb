{
 "cells": [
  {
   "cell_type": "code",
   "execution_count": 4,
   "id": "e0993111-54fe-4562-a37a-5df1354a7685",
   "metadata": {},
   "outputs": [],
   "source": [
    "import geopandas as gpd\n",
    "from shapely.geometry import box\n",
    "import matplotlib.pyplot as plt\n",
    "import pandas as pd"
   ]
  },
  {
   "cell_type": "code",
   "execution_count": 2,
   "id": "f03a362d-005e-4a85-83a5-a30e3dbbfb1b",
   "metadata": {},
   "outputs": [
    {
     "data": {
      "text/html": [
       "<div>\n",
       "<style scoped>\n",
       "    .dataframe tbody tr th:only-of-type {\n",
       "        vertical-align: middle;\n",
       "    }\n",
       "\n",
       "    .dataframe tbody tr th {\n",
       "        vertical-align: top;\n",
       "    }\n",
       "\n",
       "    .dataframe thead th {\n",
       "        text-align: right;\n",
       "    }\n",
       "</style>\n",
       "<table border=\"1\" class=\"dataframe\">\n",
       "  <thead>\n",
       "    <tr style=\"text-align: right;\">\n",
       "      <th></th>\n",
       "      <th>name</th>\n",
       "      <th>code</th>\n",
       "      <th>group</th>\n",
       "      <th>geometry</th>\n",
       "    </tr>\n",
       "  </thead>\n",
       "  <tbody>\n",
       "    <tr>\n",
       "      <th>0</th>\n",
       "      <td>Saudi Arabia</td>\n",
       "      <td>KSA</td>\n",
       "      <td>Countries</td>\n",
       "      <td>POLYGON ((42.77933 16.34789, 42.64957 16.77463...</td>\n",
       "    </tr>\n",
       "  </tbody>\n",
       "</table>\n",
       "</div>"
      ],
      "text/plain": [
       "           name code      group  \\\n",
       "0  Saudi Arabia  KSA  Countries   \n",
       "\n",
       "                                            geometry  \n",
       "0  POLYGON ((42.77933 16.34789, 42.64957 16.77463...  "
      ]
     },
     "execution_count": 2,
     "metadata": {},
     "output_type": "execute_result"
    }
   ],
   "source": [
    "df_sa = gpd.read_file('AOIs/saudi_arabia.geojson')\n",
    "df_sa.head()"
   ]
  },
  {
   "cell_type": "code",
   "execution_count": 3,
   "id": "bbece96a-dd05-48ce-a7a3-50db1698b94a",
   "metadata": {},
   "outputs": [
    {
     "data": {
      "text/html": [
       "<div>\n",
       "<style scoped>\n",
       "    .dataframe tbody tr th:only-of-type {\n",
       "        vertical-align: middle;\n",
       "    }\n",
       "\n",
       "    .dataframe tbody tr th {\n",
       "        vertical-align: top;\n",
       "    }\n",
       "\n",
       "    .dataframe thead th {\n",
       "        text-align: right;\n",
       "    }\n",
       "</style>\n",
       "<table border=\"1\" class=\"dataframe\">\n",
       "  <thead>\n",
       "    <tr style=\"text-align: right;\">\n",
       "      <th></th>\n",
       "      <th>name</th>\n",
       "      <th>code</th>\n",
       "      <th>group</th>\n",
       "      <th>geometry</th>\n",
       "    </tr>\n",
       "  </thead>\n",
       "  <tbody>\n",
       "    <tr>\n",
       "      <th>0</th>\n",
       "      <td>Yemen</td>\n",
       "      <td>YEM</td>\n",
       "      <td>Countries</td>\n",
       "      <td>POLYGON ((53.10857 16.65105, 52.38521 16.38241...</td>\n",
       "    </tr>\n",
       "  </tbody>\n",
       "</table>\n",
       "</div>"
      ],
      "text/plain": [
       "    name code      group                                           geometry\n",
       "0  Yemen  YEM  Countries  POLYGON ((53.10857 16.65105, 52.38521 16.38241..."
      ]
     },
     "execution_count": 3,
     "metadata": {},
     "output_type": "execute_result"
    }
   ],
   "source": [
    "df_y = gpd.read_file('AOIs/yemen.geojson')\n",
    "df_y.head()"
   ]
  },
  {
   "cell_type": "code",
   "execution_count": 6,
   "id": "ec8506e2-8f98-4b82-b6b4-e0212d5ea194",
   "metadata": {},
   "outputs": [
    {
     "data": {
      "text/html": [
       "<div>\n",
       "<style scoped>\n",
       "    .dataframe tbody tr th:only-of-type {\n",
       "        vertical-align: middle;\n",
       "    }\n",
       "\n",
       "    .dataframe tbody tr th {\n",
       "        vertical-align: top;\n",
       "    }\n",
       "\n",
       "    .dataframe thead th {\n",
       "        text-align: right;\n",
       "    }\n",
       "</style>\n",
       "<table border=\"1\" class=\"dataframe\">\n",
       "  <thead>\n",
       "    <tr style=\"text-align: right;\">\n",
       "      <th></th>\n",
       "      <th>geometry</th>\n",
       "      <th>name</th>\n",
       "      <th>code</th>\n",
       "      <th>group</th>\n",
       "    </tr>\n",
       "  </thead>\n",
       "  <tbody>\n",
       "    <tr>\n",
       "      <th>0</th>\n",
       "      <td>POLYGON ((52.38521 16.38241, 52.19173 15.93843...</td>\n",
       "      <td>Saudi Arabia</td>\n",
       "      <td>KSA</td>\n",
       "      <td>Countries</td>\n",
       "    </tr>\n",
       "  </tbody>\n",
       "</table>\n",
       "</div>"
      ],
      "text/plain": [
       "                                            geometry          name code  \\\n",
       "0  POLYGON ((52.38521 16.38241, 52.19173 15.93843...  Saudi Arabia  KSA   \n",
       "\n",
       "       group  \n",
       "0  Countries  "
      ]
     },
     "execution_count": 6,
     "metadata": {},
     "output_type": "execute_result"
    }
   ],
   "source": [
    "df = pd.concat([df_sa, df_y], axis=0).dissolve()\n",
    "df.head()"
   ]
  },
  {
   "cell_type": "code",
   "execution_count": 7,
   "id": "7aa20f7b-0afc-402e-b00f-2a1416eeb4e1",
   "metadata": {},
   "outputs": [],
   "source": [
    "xmin, _, xmax, _ = df.total_bounds"
   ]
  },
  {
   "cell_type": "code",
   "execution_count": 18,
   "id": "a66a3002-539a-4fc8-92a9-291f73bd959e",
   "metadata": {},
   "outputs": [],
   "source": [
    "bbox = box(xmin - 1, 0, xmax, 28)\n",
    "df_subset = df.copy()\n",
    "df_subset.geometry = df_subset.geometry.intersection(bbox)"
   ]
  },
  {
   "cell_type": "code",
   "execution_count": 19,
   "id": "e6eb5074-b81a-42b1-8c0d-6470d86fd78f",
   "metadata": {},
   "outputs": [
    {
     "data": {
      "text/plain": [
       "<Axes: >"
      ]
     },
     "execution_count": 19,
     "metadata": {},
     "output_type": "execute_result"
    },
    {
     "data": {
      "image/png": "[encoded data removed]",
      "text/plain": [
       "<Figure size 640x480 with 1 Axes>"
      ]
     },
     "metadata": {},
     "output_type": "display_data"
    }
   ],
   "source": [
    "fig, ax = plt.subplots()\n",
    "df.exterior.plot(ax=ax, alpha=.3, color='black')\n",
    "df_subset.plot(ax=ax, alpha=.3, color='green')"
   ]
  },
  {
   "cell_type": "code",
   "execution_count": 22,
   "id": "3109357d-84c0-417b-bbe6-665254cfcc45",
   "metadata": {},
   "outputs": [],
   "source": [
    "df_subset.to_file('AOIs/arabian_subset_south.geojson', driver='GeoJSON')"
   ]
  }
 ],
 "metadata": {
  "kernelspec": {
   "display_name": "aria_hyp3_env",
   "language": "python",
   "name": "aria_hyp3_env"
  },
  "language_info": {
   "codemirror_mode": {
    "name": "ipython",
    "version": 3
   },
   "file_extension": ".py",
   "mimetype": "text/x-python",
   "name": "python",
   "nbconvert_exporter": "python",
   "pygments_lexer": "ipython3",
   "version": "3.12.2"
  }
 },
 "nbformat": 4,
 "nbformat_minor": 5
}

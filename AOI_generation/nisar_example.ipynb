{
 "cells": [
  {
   "cell_type": "code",
   "execution_count": 1,
   "id": "82e6c70f-3045-40e8-8832-c46474bb5e82",
   "metadata": {},
   "outputs": [],
   "source": [
    "from shapely.geometry import Point\n",
    "import geopandas as gpd\n",
    "from rasterio.crs import CRS"
   ]
  },
  {
   "cell_type": "code",
   "execution_count": 6,
   "id": "eb8ed6ed-90e7-417a-8fa6-edb41c0a9725",
   "metadata": {},
   "outputs": [],
   "source": [
    "houston_pt = Point(-95.38,29.76)\n",
    "okl_pt = Point(-97.20, 35.00)\n",
    "\n",
    "houston_aoi = houston_pt.buffer(.5)\n",
    "okl_aoi = okl_pt.buffer(.5)"
   ]
  },
  {
   "cell_type": "code",
   "execution_count": 7,
   "id": "fa0bb12f-a26b-44e5-9c84-3f31d92b0428",
   "metadata": {},
   "outputs": [
    {
     "data": {
      "text/html": [
       "<div>\n",
       "<style scoped>\n",
       "    .dataframe tbody tr th:only-of-type {\n",
       "        vertical-align: middle;\n",
       "    }\n",
       "\n",
       "    .dataframe tbody tr th {\n",
       "        vertical-align: top;\n",
       "    }\n",
       "\n",
       "    .dataframe thead th {\n",
       "        text-align: right;\n",
       "    }\n",
       "</style>\n",
       "<table border=\"1\" class=\"dataframe\">\n",
       "  <thead>\n",
       "    <tr style=\"text-align: right;\">\n",
       "      <th></th>\n",
       "      <th>geometry</th>\n",
       "    </tr>\n",
       "  </thead>\n",
       "  <tbody>\n",
       "    <tr>\n",
       "      <th>0</th>\n",
       "      <td>POLYGON ((-94.88000 29.76000, -94.88241 29.710...</td>\n",
       "    </tr>\n",
       "    <tr>\n",
       "      <th>1</th>\n",
       "      <td>POLYGON ((-96.70000 35.00000, -96.70241 34.950...</td>\n",
       "    </tr>\n",
       "  </tbody>\n",
       "</table>\n",
       "</div>"
      ],
      "text/plain": [
       "                                            geometry\n",
       "0  POLYGON ((-94.88000 29.76000, -94.88241 29.710...\n",
       "1  POLYGON ((-96.70000 35.00000, -96.70241 34.950..."
      ]
     },
     "execution_count": 7,
     "metadata": {},
     "output_type": "execute_result"
    }
   ],
   "source": [
    "df_nisar_hrrr = gpd.GeoDataFrame(geometry=[houston_aoi, okl_aoi],\n",
    "                                 crs=CRS.from_epsg(4326))\n",
    "df_nisar_hrrr.head()"
   ]
  },
  {
   "cell_type": "code",
   "execution_count": 8,
   "id": "bdd722d1-a247-453f-bcfd-e1347bb16e32",
   "metadata": {},
   "outputs": [
    {
     "data": {
      "text/plain": [
       "<Axes: >"
      ]
     },
     "execution_count": 8,
     "metadata": {},
     "output_type": "execute_result"
    },
    {
     "data": {
      "image/png": "[encoded data removed]",
      "text/plain": [
       "<Figure size 640x480 with 1 Axes>"
      ]
     },
     "metadata": {},
     "output_type": "display_data"
    }
   ],
   "source": [
    "df_nisar_hrrr.plot()"
   ]
  },
  {
   "cell_type": "code",
   "execution_count": 10,
   "id": "90659593-bb0b-49b6-a321-6834ba027f7f",
   "metadata": {},
   "outputs": [],
   "source": [
    "df_nisar_hrrr.to_file('../AOIs/nisar_sample.geojson', driver='GeoJSON')"
   ]
  }
 ],
 "metadata": {
  "kernelspec": {
   "display_name": "aria_hyp3_env",
   "language": "python",
   "name": "aria_hyp3_env"
  },
  "language_info": {
   "codemirror_mode": {
    "name": "ipython",
    "version": 3
   },
   "file_extension": ".py",
   "mimetype": "text/x-python",
   "name": "python",
   "nbconvert_exporter": "python",
   "pygments_lexer": "ipython3",
   "version": "3.12.2"
  }
 },
 "nbformat": 4,
 "nbformat_minor": 5
}
